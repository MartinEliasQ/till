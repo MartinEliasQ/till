{
 "cells": [
  {
   "cell_type": "code",
   "execution_count": 1,
   "metadata": {},
   "outputs": [
    {
     "name": "stdout",
     "output_type": "stream",
     "text": [
      "Cuda Available : True || Version pytorch : 1.0.0\n"
     ]
    }
   ],
   "source": [
    "import numpy as np\n",
    "import torch\n",
    "from torch import nn\n",
    "import till\n",
    "from till import (preprocessing,tl)\n",
    "\n",
    "from PIL import Image\n",
    "print( \"Cuda Available : \" + str(torch.cuda.is_available()),\n",
    "        \"||\", \n",
    "        \"Version pytorch : \" + str(torch.__version__))"
   ]
  },
  {
   "cell_type": "code",
   "execution_count": 2,
   "metadata": {},
   "outputs": [],
   "source": [
    "classifier = nn.Sequential(nn.Linear(25088, 1024),\n",
    "                                 nn.LeakyReLU(),\n",
    "                                 nn.Linear(1024, 512),\n",
    "                                 nn.LeakyReLU(),\n",
    "                                 nn.Linear(512, 256),\n",
    "                                 nn.LeakyReLU(),\n",
    "                                 nn.Dropout(0.2),\n",
    "                                 nn.Linear(256, 6),\n",
    "                                 nn.LogSoftmax(dim=1))"
   ]
  },
  {
   "cell_type": "code",
   "execution_count": 3,
   "metadata": {},
   "outputs": [],
   "source": [
    "\n",
    "experiment = tl(\"vgg16\")"
   ]
  },
  {
   "cell_type": "code",
   "execution_count": null,
   "metadata": {},
   "outputs": [
    {
     "name": "stdout",
     "output_type": "stream",
     "text": [
      "Train Image :  8740\n",
      "Train Image :  1876\n",
      "Train Image :  2682\n",
      "Trainning....\n",
      "Epoch 1 / 10\n",
      "Training Loss 0.5983270676785257\n",
      "accuracy tensor(0.1939, device='cuda:0')\n",
      "Trainning....\n",
      "Epoch 2 / 10\n",
      "Training Loss 0.38507269618678963\n",
      "accuracy tensor(0.2158, device='cuda:0')\n",
      "Trainning....\n",
      "Epoch 3 / 10\n",
      "Training Loss 0.34761571267979896\n",
      "accuracy tensor(0.1476, device='cuda:0')\n",
      "Trainning....\n",
      "Epoch 4 / 10\n",
      "Training Loss 0.31838208375161925\n",
      "accuracy tensor(0.1154, device='cuda:0')\n",
      "Trainning....\n",
      "Epoch 5 / 10\n",
      "Training Loss 0.29485629312587514\n",
      "accuracy tensor(0.1101, device='cuda:0')\n",
      "Trainning....\n",
      "Epoch 6 / 10\n",
      "Training Loss 0.28627480632141744\n",
      "accuracy tensor(0.1201, device='cuda:0')\n",
      "Trainning....\n"
     ]
    }
   ],
   "source": [
    "experiment.train({\"criterion\":\"NLLLoss\",\"optimizer\":\"Adam\",\"classifier\":classifier},{\"epochs\":10,\"steps\":0})"
   ]
  },
  {
   "cell_type": "code",
   "execution_count": null,
   "metadata": {},
   "outputs": [],
   "source": []
  }
 ],
 "metadata": {
  "kernelspec": {
   "display_name": "till",
   "language": "python",
   "name": "till"
  },
  "language_info": {
   "codemirror_mode": {
    "name": "ipython",
    "version": 3
   },
   "file_extension": ".py",
   "mimetype": "text/x-python",
   "name": "python",
   "nbconvert_exporter": "python",
   "pygments_lexer": "ipython3",
   "version": "3.5.6"
  }
 },
 "nbformat": 4,
 "nbformat_minor": 2
}
